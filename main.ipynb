{
  "nbformat": 4,
  "nbformat_minor": 0,
  "metadata": {
    "accelerator": "GPU",
    "colab": {
      "name": "001_vector_search.ipynb",
      "provenance": [],
      "collapsed_sections": [],
      "toc_visible": true
    },
    "kernelspec": {
      "display_name": "Python [conda env:myenv]",
      "language": "python",
      "name": "conda-env-myenv-py"
    },
    "language_info": {
      "codemirror_mode": {
        "name": "ipython",
        "version": 3
      },
      "file_extension": ".py",
      "mimetype": "text/x-python",
      "name": "python",
      "nbconvert_exporter": "python",
      "pygments_lexer": "ipython3",
      "version": "3.7.6"
    },
    "widgets": {
      "application/vnd.jupyter.widget-state+json": {
        "cdb6c47db83e4515b7f83ebc76ffab17": {
          "model_module": "@jupyter-widgets/controls",
          "model_name": "HBoxModel",
          "state": {
            "_view_name": "HBoxView",
            "_dom_classes": [],
            "_model_name": "HBoxModel",
            "_view_module": "@jupyter-widgets/controls",
            "_model_module_version": "1.5.0",
            "_view_count": null,
            "_view_module_version": "1.5.0",
            "box_style": "",
            "layout": "IPY_MODEL_caae9c6d4f974ad680ec5b9b05ce364d",
            "_model_module": "@jupyter-widgets/controls",
            "children": [
              "IPY_MODEL_d688daaccff84bed97c114e556f76eba",
              "IPY_MODEL_76de25a073594648be2f67ca0cf5a852"
            ]
          }
        },
        "caae9c6d4f974ad680ec5b9b05ce364d": {
          "model_module": "@jupyter-widgets/base",
          "model_name": "LayoutModel",
          "state": {
            "_view_name": "LayoutView",
            "grid_template_rows": null,
            "right": null,
            "justify_content": null,
            "_view_module": "@jupyter-widgets/base",
            "overflow": null,
            "_model_module_version": "1.2.0",
            "_view_count": null,
            "flex_flow": null,
            "width": null,
            "min_width": null,
            "border": null,
            "align_items": null,
            "bottom": null,
            "_model_module": "@jupyter-widgets/base",
            "top": null,
            "grid_column": null,
            "overflow_y": null,
            "overflow_x": null,
            "grid_auto_flow": null,
            "grid_area": null,
            "grid_template_columns": null,
            "flex": null,
            "_model_name": "LayoutModel",
            "justify_items": null,
            "grid_row": null,
            "max_height": null,
            "align_content": null,
            "visibility": null,
            "align_self": null,
            "height": null,
            "min_height": null,
            "padding": null,
            "grid_auto_rows": null,
            "grid_gap": null,
            "max_width": null,
            "order": null,
            "_view_module_version": "1.2.0",
            "grid_template_areas": null,
            "object_position": null,
            "object_fit": null,
            "grid_auto_columns": null,
            "margin": null,
            "display": null,
            "left": null
          }
        },
        "d688daaccff84bed97c114e556f76eba": {
          "model_module": "@jupyter-widgets/controls",
          "model_name": "FloatProgressModel",
          "state": {
            "_view_name": "ProgressView",
            "style": "IPY_MODEL_7efbf169990b4920bf8967294f68edb4",
            "_dom_classes": [],
            "description": "100%",
            "_model_name": "FloatProgressModel",
            "bar_style": "success",
            "max": 244715968,
            "_view_module": "@jupyter-widgets/controls",
            "_model_module_version": "1.5.0",
            "value": 244715968,
            "_view_count": null,
            "_view_module_version": "1.5.0",
            "orientation": "horizontal",
            "min": 0,
            "description_tooltip": null,
            "_model_module": "@jupyter-widgets/controls",
            "layout": "IPY_MODEL_1da09cfdc9114db1b52f7537e605df91"
          }
        },
        "76de25a073594648be2f67ca0cf5a852": {
          "model_module": "@jupyter-widgets/controls",
          "model_name": "HTMLModel",
          "state": {
            "_view_name": "HTMLView",
            "style": "IPY_MODEL_b9305ed466754ad993093b53306a7036",
            "_dom_classes": [],
            "description": "",
            "_model_name": "HTMLModel",
            "placeholder": "​",
            "_view_module": "@jupyter-widgets/controls",
            "_model_module_version": "1.5.0",
            "value": " 245M/245M [04:16&lt;00:00, 952kB/s]",
            "_view_count": null,
            "_view_module_version": "1.5.0",
            "description_tooltip": null,
            "_model_module": "@jupyter-widgets/controls",
            "layout": "IPY_MODEL_618ea23f042f47ecb2b3b49bc631f831"
          }
        },
        "7efbf169990b4920bf8967294f68edb4": {
          "model_module": "@jupyter-widgets/controls",
          "model_name": "ProgressStyleModel",
          "state": {
            "_view_name": "StyleView",
            "_model_name": "ProgressStyleModel",
            "description_width": "initial",
            "_view_module": "@jupyter-widgets/base",
            "_model_module_version": "1.5.0",
            "_view_count": null,
            "_view_module_version": "1.2.0",
            "bar_color": null,
            "_model_module": "@jupyter-widgets/controls"
          }
        },
        "1da09cfdc9114db1b52f7537e605df91": {
          "model_module": "@jupyter-widgets/base",
          "model_name": "LayoutModel",
          "state": {
            "_view_name": "LayoutView",
            "grid_template_rows": null,
            "right": null,
            "justify_content": null,
            "_view_module": "@jupyter-widgets/base",
            "overflow": null,
            "_model_module_version": "1.2.0",
            "_view_count": null,
            "flex_flow": null,
            "width": null,
            "min_width": null,
            "border": null,
            "align_items": null,
            "bottom": null,
            "_model_module": "@jupyter-widgets/base",
            "top": null,
            "grid_column": null,
            "overflow_y": null,
            "overflow_x": null,
            "grid_auto_flow": null,
            "grid_area": null,
            "grid_template_columns": null,
            "flex": null,
            "_model_name": "LayoutModel",
            "justify_items": null,
            "grid_row": null,
            "max_height": null,
            "align_content": null,
            "visibility": null,
            "align_self": null,
            "height": null,
            "min_height": null,
            "padding": null,
            "grid_auto_rows": null,
            "grid_gap": null,
            "max_width": null,
            "order": null,
            "_view_module_version": "1.2.0",
            "grid_template_areas": null,
            "object_position": null,
            "object_fit": null,
            "grid_auto_columns": null,
            "margin": null,
            "display": null,
            "left": null
          }
        },
        "b9305ed466754ad993093b53306a7036": {
          "model_module": "@jupyter-widgets/controls",
          "model_name": "DescriptionStyleModel",
          "state": {
            "_view_name": "StyleView",
            "_model_name": "DescriptionStyleModel",
            "description_width": "",
            "_view_module": "@jupyter-widgets/base",
            "_model_module_version": "1.5.0",
            "_view_count": null,
            "_view_module_version": "1.2.0",
            "_model_module": "@jupyter-widgets/controls"
          }
        },
        "618ea23f042f47ecb2b3b49bc631f831": {
          "model_module": "@jupyter-widgets/base",
          "model_name": "LayoutModel",
          "state": {
            "_view_name": "LayoutView",
            "grid_template_rows": null,
            "right": null,
            "justify_content": null,
            "_view_module": "@jupyter-widgets/base",
            "overflow": null,
            "_model_module_version": "1.2.0",
            "_view_count": null,
            "flex_flow": null,
            "width": null,
            "min_width": null,
            "border": null,
            "align_items": null,
            "bottom": null,
            "_model_module": "@jupyter-widgets/base",
            "top": null,
            "grid_column": null,
            "overflow_y": null,
            "overflow_x": null,
            "grid_auto_flow": null,
            "grid_area": null,
            "grid_template_columns": null,
            "flex": null,
            "_model_name": "LayoutModel",
            "justify_items": null,
            "grid_row": null,
            "max_height": null,
            "align_content": null,
            "visibility": null,
            "align_self": null,
            "height": null,
            "min_height": null,
            "padding": null,
            "grid_auto_rows": null,
            "grid_gap": null,
            "max_width": null,
            "order": null,
            "_view_module_version": "1.2.0",
            "grid_template_areas": null,
            "object_position": null,
            "object_fit": null,
            "grid_auto_columns": null,
            "margin": null,
            "display": null,
            "left": null
          }
        },
        "4a3a05c90d124a98af7c4485232a698e": {
          "model_module": "@jupyter-widgets/controls",
          "model_name": "HBoxModel",
          "state": {
            "_view_name": "HBoxView",
            "_dom_classes": [],
            "_model_name": "HBoxModel",
            "_view_module": "@jupyter-widgets/controls",
            "_model_module_version": "1.5.0",
            "_view_count": null,
            "_view_module_version": "1.5.0",
            "box_style": "",
            "layout": "IPY_MODEL_8df8ed32288546f28a6d4b2c86c99976",
            "_model_module": "@jupyter-widgets/controls",
            "children": [
              "IPY_MODEL_ad0818db90bf418a963c04570ad9e820",
              "IPY_MODEL_e50d7764e8704a519acdc174f54ee28b"
            ]
          }
        },
        "8df8ed32288546f28a6d4b2c86c99976": {
          "model_module": "@jupyter-widgets/base",
          "model_name": "LayoutModel",
          "state": {
            "_view_name": "LayoutView",
            "grid_template_rows": null,
            "right": null,
            "justify_content": null,
            "_view_module": "@jupyter-widgets/base",
            "overflow": null,
            "_model_module_version": "1.2.0",
            "_view_count": null,
            "flex_flow": null,
            "width": null,
            "min_width": null,
            "border": null,
            "align_items": null,
            "bottom": null,
            "_model_module": "@jupyter-widgets/base",
            "top": null,
            "grid_column": null,
            "overflow_y": null,
            "overflow_x": null,
            "grid_auto_flow": null,
            "grid_area": null,
            "grid_template_columns": null,
            "flex": null,
            "_model_name": "LayoutModel",
            "justify_items": null,
            "grid_row": null,
            "max_height": null,
            "align_content": null,
            "visibility": null,
            "align_self": null,
            "height": null,
            "min_height": null,
            "padding": null,
            "grid_auto_rows": null,
            "grid_gap": null,
            "max_width": null,
            "order": null,
            "_view_module_version": "1.2.0",
            "grid_template_areas": null,
            "object_position": null,
            "object_fit": null,
            "grid_auto_columns": null,
            "margin": null,
            "display": null,
            "left": null
          }
        },
        "ad0818db90bf418a963c04570ad9e820": {
          "model_module": "@jupyter-widgets/controls",
          "model_name": "FloatProgressModel",
          "state": {
            "_view_name": "ProgressView",
            "style": "IPY_MODEL_706de6b1add74204b22e6b7b8ee0e673",
            "_dom_classes": [],
            "description": "Batches: 100%",
            "_model_name": "FloatProgressModel",
            "bar_style": "success",
            "max": 259,
            "_view_module": "@jupyter-widgets/controls",
            "_model_module_version": "1.5.0",
            "value": 259,
            "_view_count": null,
            "_view_module_version": "1.5.0",
            "orientation": "horizontal",
            "min": 0,
            "description_tooltip": null,
            "_model_module": "@jupyter-widgets/controls",
            "layout": "IPY_MODEL_3169257e9bb34f4b89ff62e633295d7c"
          }
        },
        "e50d7764e8704a519acdc174f54ee28b": {
          "model_module": "@jupyter-widgets/controls",
          "model_name": "HTMLModel",
          "state": {
            "_view_name": "HTMLView",
            "style": "IPY_MODEL_3010e81d623f4d6f8df863de3aaface4",
            "_dom_classes": [],
            "description": "",
            "_model_name": "HTMLModel",
            "placeholder": "​",
            "_view_module": "@jupyter-widgets/controls",
            "_model_module_version": "1.5.0",
            "value": " 259/259 [00:26&lt;00:00,  9.60it/s]",
            "_view_count": null,
            "_view_module_version": "1.5.0",
            "description_tooltip": null,
            "_model_module": "@jupyter-widgets/controls",
            "layout": "IPY_MODEL_ce6f32fd532d4235ba070b81e918f74f"
          }
        },
        "706de6b1add74204b22e6b7b8ee0e673": {
          "model_module": "@jupyter-widgets/controls",
          "model_name": "ProgressStyleModel",
          "state": {
            "_view_name": "StyleView",
            "_model_name": "ProgressStyleModel",
            "description_width": "initial",
            "_view_module": "@jupyter-widgets/base",
            "_model_module_version": "1.5.0",
            "_view_count": null,
            "_view_module_version": "1.2.0",
            "bar_color": null,
            "_model_module": "@jupyter-widgets/controls"
          }
        },
        "3169257e9bb34f4b89ff62e633295d7c": {
          "model_module": "@jupyter-widgets/base",
          "model_name": "LayoutModel",
          "state": {
            "_view_name": "LayoutView",
            "grid_template_rows": null,
            "right": null,
            "justify_content": null,
            "_view_module": "@jupyter-widgets/base",
            "overflow": null,
            "_model_module_version": "1.2.0",
            "_view_count": null,
            "flex_flow": null,
            "width": null,
            "min_width": null,
            "border": null,
            "align_items": null,
            "bottom": null,
            "_model_module": "@jupyter-widgets/base",
            "top": null,
            "grid_column": null,
            "overflow_y": null,
            "overflow_x": null,
            "grid_auto_flow": null,
            "grid_area": null,
            "grid_template_columns": null,
            "flex": null,
            "_model_name": "LayoutModel",
            "justify_items": null,
            "grid_row": null,
            "max_height": null,
            "align_content": null,
            "visibility": null,
            "align_self": null,
            "height": null,
            "min_height": null,
            "padding": null,
            "grid_auto_rows": null,
            "grid_gap": null,
            "max_width": null,
            "order": null,
            "_view_module_version": "1.2.0",
            "grid_template_areas": null,
            "object_position": null,
            "object_fit": null,
            "grid_auto_columns": null,
            "margin": null,
            "display": null,
            "left": null
          }
        },
        "3010e81d623f4d6f8df863de3aaface4": {
          "model_module": "@jupyter-widgets/controls",
          "model_name": "DescriptionStyleModel",
          "state": {
            "_view_name": "StyleView",
            "_model_name": "DescriptionStyleModel",
            "description_width": "",
            "_view_module": "@jupyter-widgets/base",
            "_model_module_version": "1.5.0",
            "_view_count": null,
            "_view_module_version": "1.2.0",
            "_model_module": "@jupyter-widgets/controls"
          }
        },
        "ce6f32fd532d4235ba070b81e918f74f": {
          "model_module": "@jupyter-widgets/base",
          "model_name": "LayoutModel",
          "state": {
            "_view_name": "LayoutView",
            "grid_template_rows": null,
            "right": null,
            "justify_content": null,
            "_view_module": "@jupyter-widgets/base",
            "overflow": null,
            "_model_module_version": "1.2.0",
            "_view_count": null,
            "flex_flow": null,
            "width": null,
            "min_width": null,
            "border": null,
            "align_items": null,
            "bottom": null,
            "_model_module": "@jupyter-widgets/base",
            "top": null,
            "grid_column": null,
            "overflow_y": null,
            "overflow_x": null,
            "grid_auto_flow": null,
            "grid_area": null,
            "grid_template_columns": null,
            "flex": null,
            "_model_name": "LayoutModel",
            "justify_items": null,
            "grid_row": null,
            "max_height": null,
            "align_content": null,
            "visibility": null,
            "align_self": null,
            "height": null,
            "min_height": null,
            "padding": null,
            "grid_auto_rows": null,
            "grid_gap": null,
            "max_width": null,
            "order": null,
            "_view_module_version": "1.2.0",
            "grid_template_areas": null,
            "object_position": null,
            "object_fit": null,
            "grid_auto_columns": null,
            "margin": null,
            "display": null,
            "left": null
          }
        }
      }
    }
  },
  "cells": [
    {
      "cell_type": "markdown",
      "metadata": {
        "id": "9oYv_KEYd1EC"
      },
      "source": [
        "# **Extract relevant topics based on query by Using BERT**"
      ]
    },
    {
      "cell_type": "code",
      "metadata": {
        "colab": {
          "base_uri": "https://localhost:8080/"
        },
        "id": "k79bGcfqXwQ1",
        "outputId": "95d18da1-a02a-4c43-f894-05924cc0d14e"
      },
      "source": [
        "!git clone https://github.com/HardikMochi/Assignment.git"
      ],
      "execution_count": 2,
      "outputs": [
        {
          "output_type": "stream",
          "text": [
            "Cloning into 'Assignment'...\n",
            "remote: Enumerating objects: 14, done.\u001b[K\n",
            "remote: Counting objects: 100% (14/14), done.\u001b[K\n",
            "remote: Compressing objects: 100% (11/11), done.\u001b[K\n",
            "remote: Total 14 (delta 3), reused 12 (delta 1), pack-reused 0\u001b[K\n",
            "Unpacking objects: 100% (14/14), done.\n"
          ],
          "name": "stdout"
        }
      ]
    },
    {
      "cell_type": "code",
      "metadata": {
        "id": "C0lSFLw3VyRG",
        "colab": {
          "base_uri": "https://localhost:8080/"
        },
        "outputId": "708dc506-8e58-4406-9e93-c84b02fdf9d3"
      },
      "source": [
        "cd Assignment"
      ],
      "execution_count": 1,
      "outputs": [
        {
          "output_type": "stream",
          "text": [
            "/content/Assignment\n"
          ],
          "name": "stdout"
        }
      ]
    },
    {
      "cell_type": "code",
      "metadata": {
        "colab": {
          "base_uri": "https://localhost:8080/"
        },
        "id": "9kdQ2tBzYlaA",
        "outputId": "be9f0356-9ae4-407d-cab0-3e964f241606"
      },
      "source": [
        "!pip install faiss-cpu\n",
        "!pip install -U sentence-transformers"
      ],
      "execution_count": 2,
      "outputs": [
        {
          "output_type": "stream",
          "text": [
            "Requirement already satisfied: faiss-cpu in /usr/local/lib/python3.7/dist-packages (1.7.0)\n",
            "Requirement already up-to-date: sentence-transformers in /usr/local/lib/python3.7/dist-packages (1.1.0)\n",
            "Requirement already satisfied, skipping upgrade: torch>=1.6.0 in /usr/local/lib/python3.7/dist-packages (from sentence-transformers) (1.8.1+cu101)\n",
            "Requirement already satisfied, skipping upgrade: transformers<5.0.0,>=3.1.0 in /usr/local/lib/python3.7/dist-packages (from sentence-transformers) (4.5.1)\n",
            "Requirement already satisfied, skipping upgrade: numpy in /usr/local/lib/python3.7/dist-packages (from sentence-transformers) (1.19.5)\n",
            "Requirement already satisfied, skipping upgrade: sentencepiece in /usr/local/lib/python3.7/dist-packages (from sentence-transformers) (0.1.95)\n",
            "Requirement already satisfied, skipping upgrade: scikit-learn in /usr/local/lib/python3.7/dist-packages (from sentence-transformers) (0.22.2.post1)\n",
            "Requirement already satisfied, skipping upgrade: nltk in /usr/local/lib/python3.7/dist-packages (from sentence-transformers) (3.2.5)\n",
            "Requirement already satisfied, skipping upgrade: scipy in /usr/local/lib/python3.7/dist-packages (from sentence-transformers) (1.4.1)\n",
            "Requirement already satisfied, skipping upgrade: tqdm in /usr/local/lib/python3.7/dist-packages (from sentence-transformers) (4.41.1)\n",
            "Requirement already satisfied, skipping upgrade: typing-extensions in /usr/local/lib/python3.7/dist-packages (from torch>=1.6.0->sentence-transformers) (3.7.4.3)\n",
            "Requirement already satisfied, skipping upgrade: regex!=2019.12.17 in /usr/local/lib/python3.7/dist-packages (from transformers<5.0.0,>=3.1.0->sentence-transformers) (2019.12.20)\n",
            "Requirement already satisfied, skipping upgrade: sacremoses in /usr/local/lib/python3.7/dist-packages (from transformers<5.0.0,>=3.1.0->sentence-transformers) (0.0.45)\n",
            "Requirement already satisfied, skipping upgrade: packaging in /usr/local/lib/python3.7/dist-packages (from transformers<5.0.0,>=3.1.0->sentence-transformers) (20.9)\n",
            "Requirement already satisfied, skipping upgrade: importlib-metadata; python_version < \"3.8\" in /usr/local/lib/python3.7/dist-packages (from transformers<5.0.0,>=3.1.0->sentence-transformers) (3.10.1)\n",
            "Requirement already satisfied, skipping upgrade: requests in /usr/local/lib/python3.7/dist-packages (from transformers<5.0.0,>=3.1.0->sentence-transformers) (2.23.0)\n",
            "Requirement already satisfied, skipping upgrade: tokenizers<0.11,>=0.10.1 in /usr/local/lib/python3.7/dist-packages (from transformers<5.0.0,>=3.1.0->sentence-transformers) (0.10.2)\n",
            "Requirement already satisfied, skipping upgrade: filelock in /usr/local/lib/python3.7/dist-packages (from transformers<5.0.0,>=3.1.0->sentence-transformers) (3.0.12)\n",
            "Requirement already satisfied, skipping upgrade: joblib>=0.11 in /usr/local/lib/python3.7/dist-packages (from scikit-learn->sentence-transformers) (1.0.1)\n",
            "Requirement already satisfied, skipping upgrade: six in /usr/local/lib/python3.7/dist-packages (from nltk->sentence-transformers) (1.15.0)\n",
            "Requirement already satisfied, skipping upgrade: click in /usr/local/lib/python3.7/dist-packages (from sacremoses->transformers<5.0.0,>=3.1.0->sentence-transformers) (7.1.2)\n",
            "Requirement already satisfied, skipping upgrade: pyparsing>=2.0.2 in /usr/local/lib/python3.7/dist-packages (from packaging->transformers<5.0.0,>=3.1.0->sentence-transformers) (2.4.7)\n",
            "Requirement already satisfied, skipping upgrade: zipp>=0.5 in /usr/local/lib/python3.7/dist-packages (from importlib-metadata; python_version < \"3.8\"->transformers<5.0.0,>=3.1.0->sentence-transformers) (3.4.1)\n",
            "Requirement already satisfied, skipping upgrade: certifi>=2017.4.17 in /usr/local/lib/python3.7/dist-packages (from requests->transformers<5.0.0,>=3.1.0->sentence-transformers) (2020.12.5)\n",
            "Requirement already satisfied, skipping upgrade: idna<3,>=2.5 in /usr/local/lib/python3.7/dist-packages (from requests->transformers<5.0.0,>=3.1.0->sentence-transformers) (2.10)\n",
            "Requirement already satisfied, skipping upgrade: chardet<4,>=3.0.2 in /usr/local/lib/python3.7/dist-packages (from requests->transformers<5.0.0,>=3.1.0->sentence-transformers) (3.0.4)\n",
            "Requirement already satisfied, skipping upgrade: urllib3!=1.25.0,!=1.25.1,<1.26,>=1.21.1 in /usr/local/lib/python3.7/dist-packages (from requests->transformers<5.0.0,>=3.1.0->sentence-transformers) (1.24.3)\n"
          ],
          "name": "stdout"
        }
      ]
    },
    {
      "cell_type": "markdown",
      "metadata": {
        "id": "vbnscDwgVyRW"
      },
      "source": [
        "### Let's begin!"
      ]
    },
    {
      "cell_type": "code",
      "metadata": {
        "id": "fU2i4vlCVyRc"
      },
      "source": [
        "\n",
        "# Used to import data from local.\n",
        "import pandas as pd\n",
        "\n",
        "# Used to create the dense document vectors.\n",
        "import torch\n",
        "from sentence_transformers import SentenceTransformer\n",
        "from sklearn.feature_extraction.text import CountVectorizer\n",
        "\n",
        "from sklearn.metrics.pairwise import cosine_similarity\n",
        "\n",
        "# Used to create and store the Faiss index.\n",
        "import faiss\n",
        "import numpy as np\n",
        "import pickle\n",
        "from pathlib import Path\n",
        "import time\n",
        "import itertools\n",
        "\n",
        "# Used to do vector searches and display the results.\n",
        "from utils import vector_search, id2details"
      ],
      "execution_count": 3,
      "outputs": []
    },
    {
      "cell_type": "code",
      "metadata": {
        "id": "IVIz0Wy76z8E"
      },
      "source": [
        "#define the n_grams and stop word\n",
        "n_gram_range = (1, 1)\n",
        "stop_words = \"english\""
      ],
      "execution_count": 4,
      "outputs": []
    },
    {
      "cell_type": "markdown",
      "metadata": {
        "id": "Kz5YBwU5VyRi"
      },
      "source": [
        "Stored and processed data\n"
      ]
    },
    {
      "cell_type": "code",
      "metadata": {
        "id": "VEANywYAVyRi"
      },
      "source": [
        "# Read a CSV in a table\n",
        "df = pd.read_csv('data/misinformation_papers.csv')"
      ],
      "execution_count": 5,
      "outputs": []
    },
    {
      "cell_type": "markdown",
      "metadata": {
        "id": "8pNuzFT5a7Mw"
      },
      "source": [
        "## Max Sum Similarity\n",
        "The maximum sum distance between pairs of data is defined as the pairs of data for which the distance between them is maximized. In our case, we want to maximize the candidate similarity to the document whilst minimizing the similarity between candidates."
      ]
    },
    {
      "cell_type": "code",
      "metadata": {
        "id": "eKDtPmWTy49K"
      },
      "source": [
        "\n",
        "def max_sum_sim(doc_embedding, candidate_embeddings, candidates, top_n, nr_candidates):\n",
        "    # Calculate distances and extract keywords\n",
        "    distances = cosine_similarity(doc_embedding, candidate_embeddings)\n",
        "    distances_candidates = cosine_similarity(candidate_embeddings, \n",
        "                                            candidate_embeddings)\n",
        "\n",
        "    # Get top_n words as candidates based on cosine similarity\n",
        "    words_idx = list(distances.argsort()[0][-nr_candidates:])\n",
        "    words_vals = [candidates[index] for index in words_idx]\n",
        "    distances_candidates = distances_candidates[np.ix_(words_idx, words_idx)]\n",
        "\n",
        "    # Calculate the combination of words that are the least similar to each other\n",
        "    min_sim = np.inf\n",
        "    candidate = None\n",
        "    for combination in itertools.combinations(range(len(words_idx)), top_n):\n",
        "        sim = sum([distances_candidates[i][j] for i in combination for j in combination if i != j])\n",
        "        if sim < min_sim:\n",
        "            candidate = combination\n",
        "            min_sim = sim\n",
        "\n",
        "    return [words_vals[idx] for idx in candidate]"
      ],
      "execution_count": 6,
      "outputs": []
    },
    {
      "cell_type": "code",
      "metadata": {
        "id": "YiNYVjYz6QhF"
      },
      "source": [
        "## Used to do find the keyword that help in find the relative topics.\n",
        "\n",
        "def get_keyword(text):\n",
        "  # Extract candidate words/phrases\n",
        "  count = CountVectorizer(ngram_range=n_gram_range, stop_words=stop_words).fit([text])\n",
        "  candidates = count.get_feature_names()\n",
        "  \n",
        "  #we convert both the text as well as the candidate to numerical data\n",
        "  doc_embedding = model.encode([text])\n",
        "  candidate_embeddings = model.encode(candidates)\n",
        "  return max_sum_sim(doc_embedding, candidate_embeddings, candidates, top_n =7, nr_candidates=10)"
      ],
      "execution_count": 7,
      "outputs": []
    },
    {
      "cell_type": "code",
      "metadata": {
        "colab": {
          "base_uri": "https://localhost:8080/",
          "height": 178
        },
        "id": "HJXljSbYVyRn",
        "outputId": "507a9eee-cc2c-40d2-c411-28f62c9965ef"
      },
      "source": [
        "#read the csv file\n",
        "df.head(3)"
      ],
      "execution_count": 8,
      "outputs": [
        {
          "output_type": "execute_result",
          "data": {
            "text/html": [
              "<div>\n",
              "<style scoped>\n",
              "    .dataframe tbody tr th:only-of-type {\n",
              "        vertical-align: middle;\n",
              "    }\n",
              "\n",
              "    .dataframe tbody tr th {\n",
              "        vertical-align: top;\n",
              "    }\n",
              "\n",
              "    .dataframe thead th {\n",
              "        text-align: right;\n",
              "    }\n",
              "</style>\n",
              "<table border=\"1\" class=\"dataframe\">\n",
              "  <thead>\n",
              "    <tr style=\"text-align: right;\">\n",
              "      <th></th>\n",
              "      <th>original_title</th>\n",
              "      <th>abstract</th>\n",
              "      <th>year</th>\n",
              "      <th>citations</th>\n",
              "      <th>id</th>\n",
              "      <th>is_EN</th>\n",
              "    </tr>\n",
              "  </thead>\n",
              "  <tbody>\n",
              "    <tr>\n",
              "      <th>0</th>\n",
              "      <td>When Corrections Fail: The Persistence of Poli...</td>\n",
              "      <td>An extensive literature addresses citizen igno...</td>\n",
              "      <td>2010</td>\n",
              "      <td>901</td>\n",
              "      <td>2132553681</td>\n",
              "      <td>1</td>\n",
              "    </tr>\n",
              "    <tr>\n",
              "      <th>1</th>\n",
              "      <td>A postmodern Pandora's box: anti-vaccination m...</td>\n",
              "      <td>The Internet plays a large role in disseminati...</td>\n",
              "      <td>2010</td>\n",
              "      <td>440</td>\n",
              "      <td>2117485795</td>\n",
              "      <td>1</td>\n",
              "    </tr>\n",
              "    <tr>\n",
              "      <th>2</th>\n",
              "      <td>Spread of (Mis)Information in Social Networks</td>\n",
              "      <td>We provide a model to investigate the tension ...</td>\n",
              "      <td>2010</td>\n",
              "      <td>278</td>\n",
              "      <td>2120015072</td>\n",
              "      <td>1</td>\n",
              "    </tr>\n",
              "  </tbody>\n",
              "</table>\n",
              "</div>"
            ],
            "text/plain": [
              "                                      original_title  ... is_EN\n",
              "0  When Corrections Fail: The Persistence of Poli...  ...     1\n",
              "1  A postmodern Pandora's box: anti-vaccination m...  ...     1\n",
              "2      Spread of (Mis)Information in Social Networks  ...     1\n",
              "\n",
              "[3 rows x 6 columns]"
            ]
          },
          "metadata": {
            "tags": []
          },
          "execution_count": 8
        }
      ]
    },
    {
      "cell_type": "code",
      "metadata": {
        "colab": {
          "base_uri": "https://localhost:8080/"
        },
        "id": "MljadlGpVyRs",
        "outputId": "bf41fac1-c946-4bf2-a0b1-760c7e0d7ba9"
      },
      "source": [
        "print(f\"Misinformation, disinformation and fake news papers: {df.id.unique().shape[0]}\")"
      ],
      "execution_count": 9,
      "outputs": [
        {
          "output_type": "stream",
          "text": [
            "Misinformation, disinformation and fake news papers: 8430\n"
          ],
          "name": "stdout"
        }
      ]
    },
    {
      "cell_type": "code",
      "metadata": {
        "colab": {
          "base_uri": "https://localhost:8080/"
        },
        "id": "cqpq9_oUpBWC",
        "outputId": "45db7226-12fe-4601-ea07-0cfcecc7e672"
      },
      "source": [
        "df.shape"
      ],
      "execution_count": 10,
      "outputs": [
        {
          "output_type": "execute_result",
          "data": {
            "text/plain": [
              "(8430, 6)"
            ]
          },
          "metadata": {
            "tags": []
          },
          "execution_count": 10
        }
      ]
    },
    {
      "cell_type": "markdown",
      "metadata": {
        "id": "2teBCus-iv_t"
      },
      "source": [
        "## Data Preprossening"
      ]
    },
    {
      "cell_type": "code",
      "metadata": {
        "id": "oyKs8zpZi079",
        "colab": {
          "base_uri": "https://localhost:8080/",
          "height": 112
        },
        "outputId": "d814f8b9-38c0-4e50-efa1-b7b916c2d8d3"
      },
      "source": [
        "#in our data many entiries are the duplicates so first we have to remove the duplicate entries from our data \n",
        "#other wise same entry are displayed twice in result \n",
        "query = df.iloc[5415:5417,0:2]\n",
        "query.head()"
      ],
      "execution_count": 11,
      "outputs": [
        {
          "output_type": "execute_result",
          "data": {
            "text/html": [
              "<div>\n",
              "<style scoped>\n",
              "    .dataframe tbody tr th:only-of-type {\n",
              "        vertical-align: middle;\n",
              "    }\n",
              "\n",
              "    .dataframe tbody tr th {\n",
              "        vertical-align: top;\n",
              "    }\n",
              "\n",
              "    .dataframe thead th {\n",
              "        text-align: right;\n",
              "    }\n",
              "</style>\n",
              "<table border=\"1\" class=\"dataframe\">\n",
              "  <thead>\n",
              "    <tr style=\"text-align: right;\">\n",
              "      <th></th>\n",
              "      <th>original_title</th>\n",
              "      <th>abstract</th>\n",
              "    </tr>\n",
              "  </thead>\n",
              "  <tbody>\n",
              "    <tr>\n",
              "      <th>5415</th>\n",
              "      <td>The COVID-19 social media infodemic.</td>\n",
              "      <td>We address the diffusion of information about ...</td>\n",
              "    </tr>\n",
              "    <tr>\n",
              "      <th>5416</th>\n",
              "      <td>The COVID-19 Social Media Infodemic</td>\n",
              "      <td>We address the diffusion of information about ...</td>\n",
              "    </tr>\n",
              "  </tbody>\n",
              "</table>\n",
              "</div>"
            ],
            "text/plain": [
              "                            original_title                                           abstract\n",
              "5415  The COVID-19 social media infodemic.  We address the diffusion of information about ...\n",
              "5416   The COVID-19 Social Media Infodemic  We address the diffusion of information about ..."
            ]
          },
          "metadata": {
            "tags": []
          },
          "execution_count": 11
        }
      ]
    },
    {
      "cell_type": "code",
      "metadata": {
        "colab": {
          "base_uri": "https://localhost:8080/",
          "height": 175
        },
        "id": "bZxb6Kl4m7jF",
        "outputId": "9dd60ca7-3b6b-4233-f97c-f1936f99fc56"
      },
      "source": [
        "query = df.iloc[5445:5449,0:2]\n",
        "query.head()\n"
      ],
      "execution_count": 12,
      "outputs": [
        {
          "output_type": "execute_result",
          "data": {
            "text/html": [
              "<div>\n",
              "<style scoped>\n",
              "    .dataframe tbody tr th:only-of-type {\n",
              "        vertical-align: middle;\n",
              "    }\n",
              "\n",
              "    .dataframe tbody tr th {\n",
              "        vertical-align: top;\n",
              "    }\n",
              "\n",
              "    .dataframe thead th {\n",
              "        text-align: right;\n",
              "    }\n",
              "</style>\n",
              "<table border=\"1\" class=\"dataframe\">\n",
              "  <thead>\n",
              "    <tr style=\"text-align: right;\">\n",
              "      <th></th>\n",
              "      <th>original_title</th>\n",
              "      <th>abstract</th>\n",
              "    </tr>\n",
              "  </thead>\n",
              "  <tbody>\n",
              "    <tr>\n",
              "      <th>5445</th>\n",
              "      <td>A Dataset of Fact-Checked Images Shared on Wha...</td>\n",
              "      <td>Recently, messaging applications, such as What...</td>\n",
              "    </tr>\n",
              "    <tr>\n",
              "      <th>5446</th>\n",
              "      <td>A Dataset of Fact-Checked Images Shared on Wha...</td>\n",
              "      <td>Recently, messaging applications, such as What...</td>\n",
              "    </tr>\n",
              "    <tr>\n",
              "      <th>5447</th>\n",
              "      <td>Prta: A System to Support the Analysis of Prop...</td>\n",
              "      <td>Recent events, such as the 2016 US Presidentia...</td>\n",
              "    </tr>\n",
              "    <tr>\n",
              "      <th>5448</th>\n",
              "      <td>Prta: A System to Support the Analysis of Prop...</td>\n",
              "      <td>Recent events, such as the 2016 US Presidentia...</td>\n",
              "    </tr>\n",
              "  </tbody>\n",
              "</table>\n",
              "</div>"
            ],
            "text/plain": [
              "                                         original_title                                           abstract\n",
              "5445  A Dataset of Fact-Checked Images Shared on Wha...  Recently, messaging applications, such as What...\n",
              "5446  A Dataset of Fact-Checked Images Shared on Wha...  Recently, messaging applications, such as What...\n",
              "5447  Prta: A System to Support the Analysis of Prop...  Recent events, such as the 2016 US Presidentia...\n",
              "5448  Prta: A System to Support the Analysis of Prop...  Recent events, such as the 2016 US Presidentia..."
            ]
          },
          "metadata": {
            "tags": []
          },
          "execution_count": 12
        }
      ]
    },
    {
      "cell_type": "code",
      "metadata": {
        "colab": {
          "base_uri": "https://localhost:8080/"
        },
        "id": "q2rxDBAun9D0",
        "outputId": "d442d44e-cff6-41b9-b796-99be555cfc90"
      },
      "source": [
        "# dropping ALL duplicte values\n",
        "data = df.drop_duplicates(subset =['original_title','abstract'],\n",
        "                     keep = False)\n",
        "data.shape\n"
      ],
      "execution_count": 13,
      "outputs": [
        {
          "output_type": "execute_result",
          "data": {
            "text/plain": [
              "(8285, 6)"
            ]
          },
          "metadata": {
            "tags": []
          },
          "execution_count": 13
        }
      ]
    },
    {
      "cell_type": "markdown",
      "metadata": {
        "id": "z_Z6UdMoc1-E"
      },
      "source": [
        "## Model\n",
        "In this tutorial, we will use the distilbert-base-nli-stsb-mean-tokens model which has the best performance on Semantic Textual Similarity tasks among the DistilBERT versions. Moreover, although it's slightly worse than BERT, it is quite faster thanks to having a smaller size."
      ]
    },
    {
      "cell_type": "code",
      "metadata": {
        "colab": {
          "base_uri": "https://localhost:8080/",
          "height": 86,
          "referenced_widgets": [
            "cdb6c47db83e4515b7f83ebc76ffab17",
            "caae9c6d4f974ad680ec5b9b05ce364d",
            "d688daaccff84bed97c114e556f76eba",
            "76de25a073594648be2f67ca0cf5a852",
            "7efbf169990b4920bf8967294f68edb4",
            "1da09cfdc9114db1b52f7537e605df91",
            "b9305ed466754ad993093b53306a7036",
            "618ea23f042f47ecb2b3b49bc631f831"
          ]
        },
        "id": "PjF6CrwUVyRx",
        "outputId": "c06f250a-27a1-449a-85e0-730feb977984"
      },
      "source": [
        "# Instantiate the sentence-level DistilBERT\n",
        "model = SentenceTransformer('distilbert-base-nli-stsb-mean-tokens')\n",
        "# Check if GPU is available and use it\n",
        "if torch.cuda.is_available():\n",
        "    model = model.to(torch.device(\"cuda\"))\n",
        "print(model.device)"
      ],
      "execution_count": 14,
      "outputs": [
        {
          "output_type": "display_data",
          "data": {
            "application/vnd.jupyter.widget-view+json": {
              "model_id": "cdb6c47db83e4515b7f83ebc76ffab17",
              "version_minor": 0,
              "version_major": 2
            },
            "text/plain": [
              "HBox(children=(FloatProgress(value=0.0, max=244715968.0), HTML(value='')))"
            ]
          },
          "metadata": {
            "tags": []
          }
        },
        {
          "output_type": "stream",
          "text": [
            "\n",
            "cuda:0\n"
          ],
          "name": "stdout"
        }
      ]
    },
    {
      "cell_type": "code",
      "metadata": {
        "colab": {
          "base_uri": "https://localhost:8080/",
          "height": 67,
          "referenced_widgets": [
            "4a3a05c90d124a98af7c4485232a698e",
            "8df8ed32288546f28a6d4b2c86c99976",
            "ad0818db90bf418a963c04570ad9e820",
            "e50d7764e8704a519acdc174f54ee28b",
            "706de6b1add74204b22e6b7b8ee0e673",
            "3169257e9bb34f4b89ff62e633295d7c",
            "3010e81d623f4d6f8df863de3aaface4",
            "ce6f32fd532d4235ba070b81e918f74f"
          ]
        },
        "id": "Y_GS0_CWVyR1",
        "outputId": "9218eea6-9e63-41ef-9bb5-a513bcda36c6"
      },
      "source": [
        " # Convert abstracts to vectors\n",
        "embeddings = model.encode(data.abstract.to_list(), show_progress_bar=True)"
      ],
      "execution_count": 15,
      "outputs": [
        {
          "output_type": "display_data",
          "data": {
            "application/vnd.jupyter.widget-view+json": {
              "model_id": "4a3a05c90d124a98af7c4485232a698e",
              "version_minor": 0,
              "version_major": 2
            },
            "text/plain": [
              "HBox(children=(FloatProgress(value=0.0, description='Batches', max=259.0, style=ProgressStyle(description_widt…"
            ]
          },
          "metadata": {
            "tags": []
          }
        },
        {
          "output_type": "stream",
          "text": [
            "\n"
          ],
          "name": "stdout"
        }
      ]
    },
    {
      "cell_type": "code",
      "metadata": {
        "colab": {
          "base_uri": "https://localhost:8080/"
        },
        "id": "gE7w-RJbVyR6",
        "outputId": "a1ecce67-0c24-4aa2-893d-ae987434c076"
      },
      "source": [
        "print(f'Shape of the vectorised abstract: {embeddings[0].shape}')"
      ],
      "execution_count": 16,
      "outputs": [
        {
          "output_type": "stream",
          "text": [
            "Shape of the vectorised abstract: (768,)\n"
          ],
          "name": "stdout"
        }
      ]
    },
    {
      "cell_type": "markdown",
      "metadata": {
        "id": "YGV4Je1EVyR_"
      },
      "source": [
        "## Vector similarity search with Faiss\n"
      ]
    },
    {
      "cell_type": "code",
      "metadata": {
        "colab": {
          "base_uri": "https://localhost:8080/"
        },
        "id": "8kkUDtwHVyR_",
        "outputId": "92c0cf3b-30b3-4535-e340-281d01ce0ef1"
      },
      "source": [
        "# Step 1: Change data type\n",
        "embeddings = np.array([embedding for embedding in embeddings]).astype(\"float32\")\n",
        "\n",
        "# Step 2: Instantiate the index\n",
        "index = faiss.IndexFlatL2(embeddings.shape[1])\n",
        "\n",
        "# Step 3: Pass the index to IndexIDMap\n",
        "index = faiss.IndexIDMap(index)\n",
        "\n",
        "# Step 4: Add vectors and their IDs\n",
        "index.add_with_ids(embeddings, data.id.values)\n",
        "\n",
        "print(f\"Number of vectors in the Faiss index: {index.ntotal}\")"
      ],
      "execution_count": 17,
      "outputs": [
        {
          "output_type": "stream",
          "text": [
            "Number of vectors in the Faiss index: 8285\n"
          ],
          "name": "stdout"
        }
      ]
    },
    {
      "cell_type": "markdown",
      "metadata": {
        "id": "yt1z-433VySE"
      },
      "source": [
        "### Searching the index\n",
        "The index we built will perform a k-nearest-neighbour search. We have to provide the number of neighbours to be returned.\n",
        "\n",
        "Let's query the index with an abstract from our dataset and retrieve the 5 most relevant documents. The first one must be our query!\n",
        "\n"
      ]
    },
    {
      "cell_type": "code",
      "metadata": {
        "id": "eEeJt7lYVySN"
      },
      "source": [
        "# Paper abstract\n",
        "query = data.iloc[5420, 1]"
      ],
      "execution_count": 26,
      "outputs": []
    },
    {
      "cell_type": "code",
      "metadata": {
        "colab": {
          "base_uri": "https://localhost:8080/"
        },
        "id": "BSuRcH85VySQ",
        "outputId": "ec35d503-acf0-4f99-c853-999864cf81c6"
      },
      "source": [
        " # Retrieve the 10 nearest neighbours\n",
        "D, I = index.search(np.array([embeddings[5420]]), k=5)\n",
        "print(f'L2 distance: {D.flatten().tolist()}\\n\\nMAG paper IDs: {I.flatten().tolist()}')"
      ],
      "execution_count": 27,
      "outputs": [
        {
          "output_type": "stream",
          "text": [
            "L2 distance: [0.0, 81.33309173583984, 105.64372253417969, 105.74414825439453, 106.14827728271484]\n",
            "\n",
            "MAG paper IDs: [3033049462, 3047503830, 3024620668, 3039651429, 3032066355]\n"
          ],
          "name": "stdout"
        }
      ]
    },
    {
      "cell_type": "code",
      "metadata": {
        "colab": {
          "base_uri": "https://localhost:8080/"
        },
        "id": "SiO1pa4oVySU",
        "outputId": "5188eac1-6d64-4b1c-e5d5-0ba2f6090c38"
      },
      "source": [
        "\n",
        "# Fetch the paper titles based on their index\n",
        "id2details(data, I, 'original_title')"
      ],
      "execution_count": 28,
      "outputs": [
        {
          "output_type": "execute_result",
          "data": {
            "text/plain": [
              "[['Disparities in COVID-19 related knowledge, attitudes, beliefs and behaviours by health literacy'],\n",
              " ['COVID-19: Beliefs in misinformation in the Australian community'],\n",
              " ['Quantifying COVID-19 Content in the Online Health Opinion War Using Machine Learning'],\n",
              " ['Misinformation During a Pandemic'],\n",
              " ['La libertà di informazione al tempo della pandemia. Rilievi critici in margine all’istituzione dell’«unità di monitoraggio per il contrasto della diffusione di fake news relative al CoViD-19 sul web e sui social network»']]"
            ]
          },
          "metadata": {
            "tags": []
          },
          "execution_count": 28
        }
      ]
    },
    {
      "cell_type": "code",
      "metadata": {
        "colab": {
          "base_uri": "https://localhost:8080/"
        },
        "id": "p29pEtGrWUMV",
        "outputId": "fd9b86e0-445f-4ede-c273-d506ee4e229c"
      },
      "source": [
        "# Fetch the paper abstracts based on their index\n",
        "id2details(data, I, 'abstract')"
      ],
      "execution_count": 29,
      "outputs": [
        {
          "output_type": "execute_result",
          "data": {
            "text/plain": [
              "[['Objectives: To explore the variation in understanding, attitudes and uptake of COVID-19 health advice during the 2020 pandemic lockdown by health literacy.\\n\\nStudy design: National cross sectional community survey.\\n\\nSetting: Australian general public.\\n\\nParticipants: Adults aged over 18 years (n=4362).\\n\\nMain outcome measures: Knowledge, attitudes and behaviours related to COVID-19; health literacy and socio-demographic factors.\\n\\nResults: People with inadequate health literacy had poorer understanding of COVID-19 symptoms (49% vs 68%; p<0.001), were less able to identify behaviours to prevent infection (59% vs 72%; p<0.001), and experienced more difficulty finding information and understanding government messaging about COVID-19 than people with adequate health literacy. They were less likely to rate social distancing as important (6.1 vs 6.5, p<0.001) and reported more difficulty remembering/accessing medication since lockdown (3.6 vs 2.7, p<0.001). Importantly there was higher endorsement of misinformation beliefs related to COVID-19 and vaccination in people with lower health literacy. Similar results were observed among people who primarily speak a language other than English at home.\\n\\nConclusion: Our findings show important disparities by health literacy and language in COVID-19 related knowledge, attitudes and behaviours that have the potential to undermine efforts to reduce viral transmission and may lead to social inequalities in health outcomes in Australia. Those with the greatest burden of chronic disease are most disadvantaged, and most likely to experience severe disease and die from COVID-19. Addressing the health literacy needs of the community in public health messaging about COVID-19 must now be a priority in Australia.'],\n",
              " ['Objectives: To investigate prevalence of beliefs in COVID-19 misinformation and examine whether demographic, psychosocial and cognitive factors are associated with these beliefs, and how they change over time. Study design: Prospective national longitudinal community online survey. Setting: Australian general public. Participants: Adults aged over 18 years (n=4362 baseline/Wave 1; n=1882 Wave 2; n=1369 Wave 3). Main outcome measure: COVID-19 misinformation beliefs. Results: Stronger agreement with misinformation beliefs was significantly associated with younger age, male gender, lower education, and primarily speaking a language other than English at home (all p<0.01). After controlling for these variables, misinformation beliefs were significantly associated (p<0.001) with lower digital health literacy, lower perceived threat of COVID-19, lower confidence in government, and lower trust in scientific institutions. The belief that the threat of COVID-19 is greatly exaggerated increased between Wave 1-2 (p=0.002), while belief that herd immunity benefits were being covered up decreased (p<0.001). Greatest support from a list of Australian Government identified myths was for those regarding hot temperatures killing the virus (22%) and Ibuprofen exacerbates COVID-19 (13%). Lower institutional trust and greater rejection of official government accounts were associated with greater support for COVID-19 myths after controlling for sociodemographic variables. Conclusion: These findings highlight important gaps in communication effectiveness. Stronger endorsement of misinformation was associated with male gender, younger age, lower education and language other than English spoken at home. Misinformation can undermine public health efforts. Public health authorities must urgently target groups identified in this study when countering misinformation and seek ways to enhance public trust of experts, governments, and institutions.'],\n",
              " ['A huge amount of potentially dangerous COVID-19 misinformation is appearing online. Here we use machine learning to quantify COVID-19 content among online opponents of establishment health guidance, in particular vaccinations (“anti-vax”). We find that the anti-vax community is developing a less focused debate around COVID-19 than its counterpart, the pro-vaccination (“pro-vax”) community. However, the anti-vax community exhibits a broader range of “flavors” of COVID-19 topics, and hence can appeal to a broader cross-section of individuals seeking COVID-19 guidance online, e.g. individuals wary of a mandatory fast-tracked COVID-19 vaccine or those seeking alternative remedies. Hence the anti-vax community looks better positioned to attract fresh support going forward than the pro-vax community. This is concerning since a widespread lack of adoption of a COVID-19 vaccine will mean the world falls short of providing herd immunity, leaving countries open to future COVID-19 resurgences. We provide a mechanistic model that interprets these results and could help in assessing the likely efficacy of intervention strategies. Our approach is scalable and hence tackles the urgent problem facing social media platforms of having to analyze huge volumes of online health misinformation and disinformation.'],\n",
              " ['We study the effects of COVID-19 coverage early in the pandemic by the two most widely-viewed cable news shows in the United States – Hannity and Tucker Carlson Tonight, both on Fox News – on downstream health outcomes. We first document large differences in content between the shows and in cautious behavior among viewers. Through both a selection-on-observables strategy and a novel instrumental variable approach, we find that areas with greater exposure to the show downplaying the threat of COVID-19 experienced a greater number of cases and deaths. We assess magnitudes through a simple epidemiological model highlighting the role of externalities and provide evidence that misinformation is a key underlying mechanism.'],\n",
              " [': In the context of the broader debate on measures that affect fundamental freedoms and rights – adopted to deal with the pandemic emergency – the essay analyzes some measures that involve in freedom of information, for health protection purposes. Particular attention is paid to new public unit in charge of develop and promote policy to counter the spread of fake news related to CoViD-19. The analysis aims to highlight the contradictions of a measure aimed at contrasting the «false, unproven or misleading» content conveyed by the web and social networks, and to promote communication from “official sources”. Furthermore, the contribution intends to underline the need and usefulness – precisely with reference to the context determined by the pandemic – to maintain and feed a free and open public debate.']]"
            ]
          },
          "metadata": {
            "tags": []
          },
          "execution_count": 29
        }
      ]
    },
    {
      "cell_type": "markdown",
      "metadata": {
        "id": "gFKvRb4QY-DL"
      },
      "source": [
        "\n",
        "## Putting all together\n",
        "Let’s try to find relevant academic articles for a new, unseen search query. In this example, I will query our index with the first paragraph of the Can WhatsApp benefit from debunked fact-checked stories to reduce misinformation? article that was published on HKS Misinformation Review."
      ]
    },
    {
      "cell_type": "code",
      "metadata": {
        "id": "c1qUj355gJgl"
      },
      "source": [
        "def search(query):\n",
        "   t=time.time()\n",
        "   k = 5\n",
        "   D, I = vector_search([query], model, index, num_results=k)\n",
        "   print('totaltime: {}'.format(time.time()-t))\n",
        "   # Fetching the paper titles based on their index\n",
        "   return id2details(df, I, 'original_title')"
      ],
      "execution_count": 30,
      "outputs": []
    },
    {
      "cell_type": "code",
      "metadata": {
        "colab": {
          "base_uri": "https://localhost:8080/"
        },
        "id": "fD85C0gIgm88",
        "outputId": "c5561941-e208-45eb-e314-9c11cea03919"
      },
      "source": [
        "query=str(input())\n",
        "results=search(query)\n",
        "print(\"-------------------------------------------------------------------------------------------------------------------------------------\")\n",
        "print('keywords that find the most relevant articles :')\n",
        "keyword = get_keyword(query)\n",
        "print(keyword)\n",
        "print(\"------------------------------------------------------------------------------------------------------------------------------------------\")\n",
        "print('Top 5 ranked articles  :')\n",
        "for result in results:\n",
        "   print('\\t',result)"
      ],
      "execution_count": 32,
      "outputs": [
        {
          "output_type": "stream",
          "text": [
            "WhatsApp was alleged to have been widely used to spread misinformation and propaganda  during the 2018 elections in Brazil and the 2019 elections in India.\n",
            "totaltime: 0.019596576690673828\n",
            "-------------------------------------------------------------------------------------------------------------------------------------\n",
            "keywords that find the most relevant articles :\n",
            "['2019', '2018', 'whatsapp', 'propaganda', 'brazil', 'india', 'misinformation']\n",
            "------------------------------------------------------------------------------------------------------------------------------------------\n",
            "Top 5 ranked articles  :\n",
            "\t ['Can WhatsApp Benefit from Debunked Fact-Checked Stories to Reduce Misinformation?']\n",
            "\t ['Understanding Viral Communism: A Thematic Analysis of Twitter During Brazil’s 2018 Elections']\n",
            "\t ['Politics of Fake News: How WhatsApp Became a Potent Propaganda Tool in India']\n",
            "\t ['A System for Monitoring Public Political Groups in WhatsApp']\n",
            "\t ['Can WhatsApp Counter Misinformation by Limiting Message Forwarding']\n"
          ],
          "name": "stdout"
        }
      ]
    },
    {
      "cell_type": "code",
      "metadata": {
        "id": "9JQ-GDvk8Q4h"
      },
      "source": [
        "# Serialise index and store it as a pickle\n",
        "with open(f\"models/faiss_index.pickle\", \"wb\") as h:\n",
        "    pickle.dump(faiss.serialize_index(index), h)"
      ],
      "execution_count": null,
      "outputs": []
    },
    {
      "cell_type": "code",
      "metadata": {
        "id": "TDFzPbYWQIqL"
      },
      "source": [
        ""
      ],
      "execution_count": null,
      "outputs": []
    }
  ]
}